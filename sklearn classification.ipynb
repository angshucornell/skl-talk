{
 "metadata": {
  "name": "sklearn classification"
 },
 "nbformat": 3,
 "nbformat_minor": 0,
 "worksheets": [
  {
   "cells": [
    {
     "cell_type": "code",
     "collapsed": false,
     "input": [
      "# There are multiple ways of importing data to scikit-learn. One of the easiest ways\n",
      "# I've found for categorical data is to read in a file from a csv and put it into\n",
      "# a list of dictionaries, which can easily be encoded into 1s and 0s in sklearn.\n",
      "# For the target variables, that simply gets read into a list and is then encoded.\n",
      "import csv\n",
      "\n",
      "car_data = list(csv.DictReader(open('cardata.csv', 'rU')))\n",
      "car_target = list(csv.reader(open('cartarget1.csv', 'rU')))\n",
      "\n",
      "# Here's what the first dictionary in the list looks like:\n",
      "car_data[10]"
     ],
     "language": "python",
     "metadata": {},
     "outputs": [
      {
       "output_type": "pyout",
       "prompt_number": 84,
       "text": [
        "{'buying': 'vhigh',\n",
        " 'doors': '2',\n",
        " 'lug_boot': 'small',\n",
        " 'maint': 'vhigh',\n",
        " 'persons': '4',\n",
        " 'safety': 'med'}"
       ]
      }
     ],
     "prompt_number": 84
    },
    {
     "cell_type": "code",
     "collapsed": false,
     "input": [
      "from sklearn.feature_extraction import DictVectorizer\n",
      "\n",
      "# Create dictionary vectorizer object for our data instances\n",
      "vec = DictVectorizer()\n",
      "\n",
      "# Vectorize our dictionary\n",
      "car_data = vec.fit_transform(car_data).toarray()\n",
      "\n",
      "# Here's a vectorized item and the unencoded item\n",
      "car_data[10], vec.inverse_transform(car_data[10])"
     ],
     "language": "python",
     "metadata": {},
     "outputs": [
      {
       "output_type": "pyout",
       "prompt_number": 85,
       "text": [
        "(array([ 0.,  0.,  0.,  1.,  1.,  0.,  0.,  0.,  0.,  0.,  1.,  0.,  0.,\n",
        "        0.,  1.,  0.,  1.,  0.,  0.,  0.,  1.]),\n",
        " [{'buying=vhigh': 1.0,\n",
        "   'doors=2': 1.0,\n",
        "   'lug_boot=small': 1.0,\n",
        "   'maint=vhigh': 1.0,\n",
        "   'persons=4': 1.0,\n",
        "   'safety=med': 1.0}])"
       ]
      }
     ],
     "prompt_number": 85
    },
    {
     "cell_type": "code",
     "collapsed": false,
     "input": [
      "from sklearn import preprocessing\n",
      "\n",
      "# Create label encoder object for our labels\n",
      "le = preprocessing.LabelEncoder()\n",
      "\n",
      "# Encode the labels\n",
      "le.fit([\"unacc\", \"acc\", \"good\", \"vgood\"])\n",
      "\n",
      "# Apply that encoding to the whole set of car evaluation labels\n",
      "target = le.transform(car_target[0])\n",
      "\n",
      "# Here's an encoded label and the unencoded label\n",
      "target[10], le.inverse_transform(target[10])"
     ],
     "language": "python",
     "metadata": {},
     "outputs": [
      {
       "output_type": "pyout",
       "prompt_number": 86,
       "text": [
        "(2, 'unacc')"
       ]
      }
     ],
     "prompt_number": 86
    },
    {
     "cell_type": "code",
     "collapsed": false,
     "input": [
      "# It's important to split up the dataset to avoid overfitting.\n",
      "# The train_test_split() function is a really simple way to do that.\n",
      "# By default, the size of the test set is 25%.\n",
      "\n",
      "from sklearn.cross_validation import train_test_split\n",
      "\n",
      "car_data_train, car_data_test, target_train, target_test = train_test_split(\n",
      "                                                                            car_data, target)\n",
      "\n",
      "# The length of the whole data set is 1728 instances.\n",
      "# The length of the training set, the length of the test set.\n",
      "len(car_data_train), len(car_data_test)"
     ],
     "language": "python",
     "metadata": {},
     "outputs": [
      {
       "output_type": "pyout",
       "prompt_number": 92,
       "text": [
        "(1296, 432)"
       ]
      }
     ],
     "prompt_number": 92
    },
    {
     "cell_type": "code",
     "collapsed": false,
     "input": [
      "# Now we're ready for classification.\n",
      "from sklearn.naive_bayes import GaussianNB\n",
      "\n",
      "# Create the Naive Bayes estimator object\n",
      "nb_estimator = GaussianNB()\n",
      "\n",
      "# Fit the estimator to the training set\n",
      "nb_estimator.fit(car_data_train, target_train)\n",
      "\n",
      "# Now we test the model on the test data\n",
      "pred = nb_estimator.predict(car_data_test)\n",
      "\n",
      "# Looking at the first 8 predicted labels\n",
      "pred[0:8]"
     ],
     "language": "python",
     "metadata": {},
     "outputs": [
      {
       "output_type": "pyout",
       "prompt_number": 123,
       "text": [
        "array([2, 2, 0, 0, 0, 2, 0, 2])"
       ]
      }
     ],
     "prompt_number": 123
    },
    {
     "cell_type": "code",
     "collapsed": false,
     "input": [
      "# And here's what the first 8 labels actually are\n",
      "target_test[0:8]"
     ],
     "language": "python",
     "metadata": {},
     "outputs": [
      {
       "output_type": "pyout",
       "prompt_number": 124,
       "text": [
        "array([2, 2, 2, 2, 0, 2, 0, 2])"
       ]
      }
     ],
     "prompt_number": 124
    },
    {
     "cell_type": "code",
     "collapsed": false,
     "input": [
      "# Here's the unencoded predicted labels\n",
      "list(le.inverse_transform(pred[0:8]))"
     ],
     "language": "python",
     "metadata": {},
     "outputs": [
      {
       "output_type": "pyout",
       "prompt_number": 129,
       "text": [
        "['unacc', 'unacc', 'acc', 'acc', 'acc', 'unacc', 'acc', 'unacc']"
       ]
      }
     ],
     "prompt_number": 129
    },
    {
     "cell_type": "code",
     "collapsed": false,
     "input": [
      "# And the unencoded actual labels\n",
      "list(le.inverse_transform(target_test[0:8]))"
     ],
     "language": "python",
     "metadata": {},
     "outputs": [
      {
       "output_type": "pyout",
       "prompt_number": 130,
       "text": [
        "['unacc', 'unacc', 'unacc', 'unacc', 'acc', 'unacc', 'acc', 'unacc']"
       ]
      }
     ],
     "prompt_number": 130
    },
    {
     "cell_type": "code",
     "collapsed": false,
     "input": [
      "# We can use the scoring function to get a sense of accuracy\n",
      "# Cross\n",
      "from sklearn import cross_validation\n",
      "\n",
      "cross_validation.cross_val_score(nb_estimator, car_data_test, target_test, cv=4)"
     ],
     "language": "python",
     "metadata": {},
     "outputs": [
      {
       "output_type": "pyout",
       "prompt_number": 102,
       "text": [
        "array([ 0.73148148,  0.75925926,  0.87037037,  0.82407407])"
       ]
      }
     ],
     "prompt_number": 102
    },
    {
     "cell_type": "code",
     "collapsed": false,
     "input": [
      "nb_estimator.score(car_data_test, target_test)"
     ],
     "language": "python",
     "metadata": {},
     "outputs": [
      {
       "output_type": "pyout",
       "prompt_number": 103,
       "text": [
        "0.80092592592592593"
       ]
      }
     ],
     "prompt_number": 103
    },
    {
     "cell_type": "code",
     "collapsed": false,
     "input": [],
     "language": "python",
     "metadata": {},
     "outputs": []
    }
   ],
   "metadata": {}
  }
 ]
}