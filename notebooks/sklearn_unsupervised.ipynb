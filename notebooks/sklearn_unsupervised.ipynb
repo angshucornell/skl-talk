{
 "metadata": {
  "name": ""
 },
 "nbformat": 3,
 "nbformat_minor": 0,
 "worksheets": [
  {
   "cells": [
    {
     "cell_type": "markdown",
     "metadata": {},
     "source": [
      "## Unsupervised Learning in Scikit-Learn\n",
      "\n",
      "This notebook will cover simple examples of both clustering and dimensionality reduction.\n",
      "\n",
      "### Clustering\n",
      "\n",
      "#### K-means clustering\n",
      "\n",
      "### Dimensionality reduction"
     ]
    }
   ],
   "metadata": {}
  }
 ]
}