{
 "metadata": {
  "name": ""
 },
 "nbformat": 3,
 "nbformat_minor": 0,
 "worksheets": [
  {
   "cells": [
    {
     "cell_type": "markdown",
     "metadata": {},
     "source": [
      "## A Beginner's Guide to Machine Learning in Scikit-Learn\n",
      "\n",
      "This is the IPython notebook that directly accompanies the \"A Beginner's Guide to Machine Learning with Scikit-Learn\" talk I gave at PyData NYC 2013 and will  be giving at PyTennessee 2014. The slides can be found at http://www.slideshare.net/SarahGuido/a-beginners-guide-to-machine-learning-with-scikitlearn. \n",
      "\n",
      "This notebook contains the full machine learning workflow I cover in my talk, starting with data preprocessing, moving into supervised and unsupervised learning, and finishing with testing and validation. I don't cover the topics linearly in my talk, because my main goal of the talk is to introduce you to important machine learning concepts and give you a taste of what scikit-learn can do, but here they are in a linear process.\n",
      "\n",
      "My first step, not shown here, is to save the data in one file and the labels in another. This was the simplest way I could find, for the purposes of this talk.\n",
      "\n",
      "Next is to read it in."
     ]
    },
    {
     "cell_type": "code",
     "collapsed": false,
     "input": [
      "%pylab inline\n",
      "import csv\n",
      "from sklearn.feature_extraction import DictVectorizer\n",
      "from sklearn import preprocessing\n",
      "from sklearn.cross_validation import train_test_split\n",
      "from sklearn.naive_bayes import GaussianNB\n",
      "from sklearn import cross_validation\n",
      "from sklearn.cluster import KMeans\n",
      "from sklearn.decomposition import PCA\n",
      "\n",
      "car_data = list(csv.DictReader(open('git repos/skl-talk/data/cardata.csv', 'rU')))\n",
      "car_target = open('git repos/skl-talk/data/cartarget.csv', 'rU').read().splitlines()\n",
      "\n",
      "print 'Data instance:', car_data[10]\n",
      "print 'Label:', car_target[10]"
     ],
     "language": "python",
     "metadata": {},
     "outputs": [
      {
       "output_type": "stream",
       "stream": "stdout",
       "text": [
        "Populating the interactive namespace from numpy and matplotlib\n",
        "Data instance:"
       ]
      },
      {
       "output_type": "stream",
       "stream": "stdout",
       "text": [
        " {'maint': 'vhigh', 'persons': '4', 'lug_boot': 'small', 'safety': 'med', 'doors': '2', 'buying': 'vhigh'}\n",
        "Label: unacc\n"
       ]
      }
     ],
     "prompt_number": 2
    },
    {
     "cell_type": "markdown",
     "metadata": {},
     "source": [
      "Next is to vectorize and encode my categorical variables, as discessed in the data preprocessing notebook."
     ]
    },
    {
     "cell_type": "code",
     "collapsed": false,
     "input": [
      "vec = DictVectorizer()\n",
      "car_data = vec.fit_transform(car_data).toarray()\n",
      "\n",
      "print 'Vectorized:', car_data[10]\n",
      "print 'Unvectorized:', vec.inverse_transform(car_data[10])"
     ],
     "language": "python",
     "metadata": {},
     "outputs": [
      {
       "output_type": "stream",
       "stream": "stdout",
       "text": [
        "Vectorized: [ 0.  0.  0.  1.  1.  0.  0.  0.  0.  0.  1.  0.  0.  0.  1.  0.  1.  0.\n",
        "  0.  0.  1.]\n",
        "Unvectorized: [{'persons=4': 1.0, 'buying=vhigh': 1.0, 'safety=med': 1.0, 'lug_boot=small': 1.0, 'doors=2': 1.0, 'maint=vhigh': 1.0}]\n"
       ]
      }
     ],
     "prompt_number": 3
    },
    {
     "cell_type": "markdown",
     "metadata": {},
     "source": [
      "I also have to encode the labels, since they're currently in text form. You can get the original label using the inverse_transform() function."
     ]
    },
    {
     "cell_type": "code",
     "collapsed": false,
     "input": [
      "le = preprocessing.LabelEncoder()\n",
      "le.fit([\"unacc\", \"acc\", \"good\", \"vgood\"])\n",
      "target = le.transform(car_target)\n",
      "\n",
      "print 'Transformed:', target[10] \n",
      "print 'Inverse transformed:', le.inverse_transform(target[10])"
     ],
     "language": "python",
     "metadata": {},
     "outputs": [
      {
       "output_type": "stream",
       "stream": "stdout",
       "text": [
        "Transformed: 2\n",
        "Inverse transformed: unacc\n"
       ]
      }
     ],
     "prompt_number": 4
    },
    {
     "cell_type": "markdown",
     "metadata": {},
     "source": [
      "After prepping the data and labels by encoding them, it's time to split up the dataset using train_test_split(), to avoid overfitting later on."
     ]
    },
    {
     "cell_type": "code",
     "collapsed": false,
     "input": [
      "car_data_train, car_data_test, target_train, target_test = train_test_split(car_data, target)\n",
      "\n",
      "print 'Training set:', len(car_data_train)\n",
      "print 'Test set:', len(car_data_test)"
     ],
     "language": "python",
     "metadata": {},
     "outputs": [
      {
       "output_type": "stream",
       "stream": "stdout",
       "text": [
        "Training set: 1296\n",
        "Test set: 432\n"
       ]
      }
     ],
     "prompt_number": 5
    },
    {
     "cell_type": "markdown",
     "metadata": {},
     "source": [
      "It's now time to build our classifier! Using the Naive Bayes classifier is easy (if you want to learn more about it, check out the supervised learning notebook)."
     ]
    },
    {
     "cell_type": "code",
     "collapsed": false,
     "input": [
      "nb_estimator = GaussianNB()\n",
      "nb_estimator.fit(car_data_train, target_train)\n",
      "pred = nb_estimator.predict(car_data_test)\n",
      "\n",
      "print 'Predicted labels:', pred[0:8]\n",
      "print 'Actual labels:', target_test[0:8]\n",
      "\n",
      "print 'Predicted labels inverse:', list(le.inverse_transform(pred[0:8]))\n",
      "print 'Actual labels inverse:', list(le.inverse_transform(target_test[0:8]))"
     ],
     "language": "python",
     "metadata": {},
     "outputs": [
      {
       "output_type": "stream",
       "stream": "stdout",
       "text": [
        "Predicted labels: [0 2 0 2 1 0 2 0]\n",
        "Actual labels: [2 2 0 2 0 0 2 2]\n",
        "Predicted labels inverse: ['acc', 'unacc', 'acc', 'unacc', 'good', 'acc', 'unacc', 'acc']\n",
        "Actual labels inverse: ['unacc', 'unacc', 'acc', 'unacc', 'acc', 'acc', 'unacc', 'unacc']\n"
       ]
      }
     ],
     "prompt_number": 6
    },
    {
     "cell_type": "markdown",
     "metadata": {},
     "source": [
      "So our classifier was sort of accurate, but got a few labels wrong. Let's take a look at how accurate the classifier actually is using come testing and validation measures."
     ]
    },
    {
     "cell_type": "code",
     "collapsed": false,
     "input": [
      "print 'Score:', nb_estimator.score(car_data_test, target_test)\n",
      "\n",
      "print 'Cross validation scoring:', cross_validation.cross_val_score(nb_estimator, \n",
      "                                                                    car_data_test, \n",
      "                                                                    target_test, cv=4)"
     ],
     "language": "python",
     "metadata": {},
     "outputs": [
      {
       "output_type": "stream",
       "stream": "stdout",
       "text": [
        "Score: 0.81712962963\n",
        "Cross validation scoring: [ 0.7962963   0.78703704  0.82407407  0.78703704]\n"
       ]
      }
     ],
     "prompt_number": 7
    },
    {
     "cell_type": "markdown",
     "metadata": {},
     "source": [
      "Let's pretend we don't have labels for this dataset. Is there anything we can learn by clustering? \n",
      "\n",
      "Also, and I don't cover this is my talk due to time limits, I'm reducing the dimensionality of my dataset here for the sake of simplicity. Again, you can find descriptions of clustering and dimensionality reduction in the unsupervised learning notebook."
     ]
    },
    {
     "cell_type": "code",
     "collapsed": false,
     "input": [
      "pca = PCA(n_components=2)\n",
      "X_test_r = pca.fit(car_data_test).transform(car_data_test)\n",
      "\n",
      "kmeans = KMeans(n_clusters=10)\n",
      "kmeans.fit(X_test_r)\n",
      "centroids = kmeans.cluster_centers_\n",
      "target_names = le.classes_\n",
      "\n",
      "plt.figure()\n",
      "for c, i, target_name in zip(['b', 'r', 'g', 'c'],\n",
      "                             [0, 1, 2, 3], target_names):\n",
      "    plt.plot(X_test_r[target_test == i, 0], X_test_r[target_test == i, 1], 'o', \n",
      "             c=c, markeredgecolor='k', markersize=8, label=target_name)\n",
      "    plt.scatter(centroids[:, 0], centroids[:, 1], marker='x', s=300, linewidths=5, \n",
      "                color='chartreuse', zorder=10)\n",
      "\n",
      "plt.legend()\n",
      "plt.show()"
     ],
     "language": "python",
     "metadata": {},
     "outputs": [
      {
       "metadata": {},
       "output_type": "display_data",
       "png": "[encoded data removed]",
       "text": [
        "<matplotlib.figure.Figure at 0x108203190>"
       ]
      }
     ],
     "prompt_number": 23
    },
    {
     "cell_type": "markdown",
     "metadata": {},
     "source": [
      "This is particularly interesting because while the car evaluation dataset has 4 labels, it appears that there are 10 significant clusters in the dataset! "
     ]
    }
   ],
   "metadata": {}
  }
 ]
}