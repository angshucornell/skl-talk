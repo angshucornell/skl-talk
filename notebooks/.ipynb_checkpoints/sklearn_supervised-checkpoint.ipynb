{
 "metadata": {
  "name": ""
 },
 "nbformat": 3,
 "nbformat_minor": 0,
 "worksheets": [
  {
   "cells": [
    {
     "cell_type": "code",
     "collapsed": false,
     "input": [
      "%pylab inline"
     ],
     "language": "python",
     "metadata": {},
     "outputs": [
      {
       "output_type": "stream",
       "stream": "stdout",
       "text": [
        "Populating the interactive namespace from numpy and matplotlib\n"
       ]
      }
     ],
     "prompt_number": 9
    },
    {
     "cell_type": "markdown",
     "metadata": {},
     "source": [
      "## Supervised Learning in Scikit-Learn\n",
      "\n",
      "Supervised learning is the task of learning from labeled data. Using a set of labeled data, called training data, you can train supervised algorithms to infer the relationship between each data instance and its label. That relationship can then be mapped to new data, in order to predict patterns or categories. For example, if you have a dataset with observations about email spam, each instance might have a label of \"spam\" or \"not spam\", or something like a 1 for spam and a 0 for not spam. Or, as another example, you might want to predict the relationship between housing prices and square footage based off of data where that relationship is already apparent.\n",
      "\n",
      "The two main types of supervised learning are classification and regression.\n",
      "\n",
      "### Classification\n",
      "\n",
      "Classification algorithms predict categorical labels, like our email spam example, and can tell us the likelihood that a new data instance belongs to a certain category. The categories can be discrete, nominal, ordinal, integer-valued, or real-valued. Our much-loved email spam example is an example of classification. \n",
      "\n",
      "#### Naive Bayes Classification\n",
      "\n",
      "In Naive Bayes classification, the classifier assumes that the features in your dataset are independent of each other; that is, one feature being a certain way has no effect on what values the other features take. This is a naive assumption because this doesn't always hold true in reality, but despite this naivety and oversimplified assumptions, the classifier performs decently and even quite well in certain classification situations.\n",
      "\n",
      "In scikit-learn, the Naive Bayes classifier is fast. However, some of the more sophisticated methods we'll discuss have been shown to perform better. Scikit-learn comes with several different variations on the Naive Bayes classifer, like Gaussian Naive Bayes, which is what I'll show in the example.\n",
      "\n",
      "To build the classifier, first create the model by setting a variable equal to the Naive Bayes object. The GaussianNB() estimator assumes a normal distribution. Then, fit the model to the training dataset and the training labels. Finally, predict on a new set of data."
     ]
    },
    {
     "cell_type": "code",
     "collapsed": false,
     "input": [
      "from sklearn import datasets\n",
      "from sklearn.cross_validation import train_test_split\n",
      "from sklearn.naive_bayes import GaussianNB\n",
      "\n",
      "digits = datasets.load_digits()\n",
      "\n",
      "# I'll cover this function in the training and validation notebook.\n",
      "train_X, test_X, train_y, test_y = train_test_split(digits.data, digits.target, test_size=0.33)\n",
      "\n",
      "nb_estimator = GaussianNB()\n",
      "nb_estimator.fit(train_X, train_y)\n",
      "pred = nb_estimator.predict(test_X)"
     ],
     "language": "python",
     "metadata": {},
     "outputs": [],
     "prompt_number": 3
    },
    {
     "cell_type": "markdown",
     "metadata": {},
     "source": [
      "Comparing the first 8 predicted labels to what the first 8 labels actually are:"
     ]
    },
    {
     "cell_type": "code",
     "collapsed": false,
     "input": [
      "print 'Predicted labels:', pred[0:8]\n",
      "print 'Actual labels:', test_y[0:8]"
     ],
     "language": "python",
     "metadata": {},
     "outputs": [
      {
       "output_type": "stream",
       "stream": "stdout",
       "text": [
        "Predicted labels: [6 0 7 5 6 8 0 0]\n",
        "Actual labels: [6 0 7 5 1 3 0 0]\n"
       ]
      }
     ],
     "prompt_number": 12
    },
    {
     "cell_type": "markdown",
     "metadata": {},
     "source": [
      "### Regression\n",
      "\n",
      "Regression is used to predict continuous target variables, like the relationship between housing prices and square footage. In a regression model, we look at how the value of a dependent variable changes when the other independent variables change. \n",
      "\n",
      "#### Linear Regression\n",
      "\n",
      "Linear regression is used when the target value is expected to be a linear combination of the input variables. The goal of linear regression, in creating a linear model, is to minimize the sum of squared residuals between the observed data and the responses predicted by linear approximation. \n",
      "\n",
      "Linear regression models make a few assumptions about the dataset you're using to train them. Feature independence, similar to that in the Naive Bayes algorithm, is assumed, as is linearity, which means that the target value is a linear combination of the parameters and the predictor variables. \n",
      "\n",
      "Here's linear regression used on housing prices."
     ]
    },
    {
     "cell_type": "code",
     "collapsed": false,
     "input": [
      "from sklearn import linear_model\n",
      "import matplotlib.pyplot as plt\n",
      "\n",
      "houses = datasets.load_boston()\n",
      "# Use only one feature\n",
      "houses_X = houses.data[:, np.newaxis]\n",
      "houses_X_temp = houses_X[:, :, 2]\n",
      "\n",
      "X_train, X_test, y_train, y_test = train_test_split(houses_X_temp, houses.target, test_size=0.33)\n",
      "\n",
      "lreg = linear_model.LinearRegression()\n",
      "lreg.fit(X_train, y_train)\n",
      "\n",
      "plt.scatter(X_test, y_test, color='black')\n",
      "plt.plot(X_test, lreg.predict(X_test), color='green', linewidth=3)\n",
      "\n",
      "plt.show()"
     ],
     "language": "python",
     "metadata": {},
     "outputs": [
      {
       "metadata": {},
       "output_type": "display_data",
       "png": "[encoded data removed]",
       "text": [
        "<matplotlib.figure.Figure at 0x109de8ad0>"
       ]
      }
     ],
     "prompt_number": 18
    }
   ],
   "metadata": {}
  }
 ]
}