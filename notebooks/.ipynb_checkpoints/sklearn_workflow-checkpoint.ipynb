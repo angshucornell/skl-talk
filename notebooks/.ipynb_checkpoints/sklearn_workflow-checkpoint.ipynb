{
 "metadata": {
  "name": ""
 },
 "nbformat": 3,
 "nbformat_minor": 0,
 "worksheets": [
  {
   "cells": [
    {
     "cell_type": "code",
     "collapsed": false,
     "input": [
      "import csv\n",
      "\n",
      "car_data = list(csv.DictReader(open('../cardata.csv', 'rU')))\n",
      "car_target = list(csv.reader(open('../cartarget.csv', 'rU')))\n",
      "\n",
      "car_data[10]\n",
      "\n",
      "from sklearn.feature_extraction import DictVectorizer\n",
      "\n",
      "vec = DictVectorizer()\n",
      "car_data = vec.fit_transform(car_data).toarray()\n",
      "\n",
      "print 'Vectorized:', car_data[10]\n",
      "print 'Unvectorized:', vec.inverse_transform(car_data[10])\n",
      "\n",
      "from sklearn import preprocessing\n",
      "\n",
      "le = preprocessing.LabelEncoder()\n",
      "le.fit([\"unacc\", \"acc\", \"good\", \"vgood\"])\n",
      "target = le.transform(car_target[0])\n",
      "\n",
      "print 'Transformed:', target[10] \n",
      "print 'Inverse transformed:', le.inverse_transform(target[10])\n",
      "\n",
      "from sklearn.cross_validation import train_test_split\n",
      "\n",
      "car_data_train, car_data_test, target_train, target_test = train_test_split(car_data, target)\n",
      "\n",
      "print 'Training set:', len(car_data_train)\n",
      "print 'Test set:', len(car_data_test)\n",
      "\n",
      "from sklearn.naive_bayes import GaussianNB\n",
      "\n",
      "nb_estimator = GaussianNB()\n",
      "nb_estimator.fit(car_data_train, target_train)\n",
      "pred = nb_estimator.predict(car_data_test)\n",
      "\n",
      "print 'Predicted labels:', pred[0:8]\n",
      "print 'Actual labels:', target_test[0:8]\n",
      "\n",
      "print 'Predicted labels:', list(le.inverse_transform(pred[0:8]))\n",
      "print 'Actual labels:', list(le.inverse_transform(target_test[0:8]))\n",
      "\n",
      "#clustering shit\n",
      "\n",
      "nb_estimator.score(car_data_test, target_test)\n",
      "\n",
      "from sklearn import cross_validation\n",
      "\n",
      "cross_validation.cross_val_score(nb_estimator, car_data_test, target_test, cv=4)"
     ],
     "language": "python",
     "metadata": {},
     "outputs": []
    }
   ],
   "metadata": {}
  }
 ]
}