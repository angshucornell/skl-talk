{
 "metadata": {
  "name": ""
 },
 "nbformat": 3,
 "nbformat_minor": 0,
 "worksheets": [
  {
   "cells": [
    {
     "cell_type": "markdown",
     "metadata": {},
     "source": [
      "## Supervised Learning in Scikit-Learn\n",
      "\n",
      "This notebook will cover both classification and regression.\n",
      "\n",
      "### Classification\n",
      "\n",
      "#### Naive Bayes Classification\n",
      "\n",
      "The Naive Bayes classifier assumes that the features are independent, which is a naive assumption. The classifier performs decently, but is fairly simple. \n",
      "\n",
      "To build the classifier, first create the model by setting a variable equal to the Naive Bayes object. The GaussianNB() estimator assumes a normal distribution. Then, fit the model to the training dataset and the training labels. Finally, predict on a new set of data."
     ]
    },
    {
     "cell_type": "code",
     "collapsed": false,
     "input": [
      "from sklearn.naive_bayes import GaussianNB\n",
      "\n",
      "nb_estimator = GaussianNB()\n",
      "nb_estimator.fit(car_data_train, target_train)\n",
      "pred = nb_estimator.predict(car_data_test)"
     ],
     "language": "python",
     "metadata": {},
     "outputs": [],
     "prompt_number": 26
    },
    {
     "cell_type": "markdown",
     "metadata": {},
     "source": [
      "Comparing the first 8 predicted labels to what the first 8 labels actually are:"
     ]
    },
    {
     "cell_type": "code",
     "collapsed": false,
     "input": [
      "print 'Predicted labels:', pred[0:8]\n",
      "print 'Actual labels:', target_test[0:8]"
     ],
     "language": "python",
     "metadata": {},
     "outputs": [
      {
       "output_type": "stream",
       "stream": "stdout",
       "text": [
        "Predicted labels: [2 2 1 2 2 2 3 1]\n",
        "Actual labels: [2 2 0 2 2 2 0 2]\n"
       ]
      }
     ],
     "prompt_number": 27
    },
    {
     "cell_type": "markdown",
     "metadata": {},
     "source": [
      "Here's the text values of the labels:"
     ]
    },
    {
     "cell_type": "code",
     "collapsed": false,
     "input": [
      "print 'Predicted labels:', list(le.inverse_transform(pred[0:8]))\n",
      "print 'Actual labels:', list(le.inverse_transform(target_test[0:8]))"
     ],
     "language": "python",
     "metadata": {},
     "outputs": [
      {
       "output_type": "stream",
       "stream": "stdout",
       "text": [
        "Predicted labels: ['unacc', 'unacc', 'good', 'unacc', 'unacc', 'unacc', 'vgood', 'good']\n",
        "Actual labels: ['unacc', 'unacc', 'acc', 'unacc', 'unacc', 'unacc', 'acc', 'unacc']\n"
       ]
      }
     ],
     "prompt_number": 31
    },
    {
     "cell_type": "markdown",
     "metadata": {},
     "source": [
      "### Regression\n",
      "\n",
      "#### Regression example"
     ]
    }
   ],
   "metadata": {}
  }
 ]
}